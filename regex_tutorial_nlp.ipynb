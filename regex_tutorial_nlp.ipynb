{
  "nbformat": 4,
  "nbformat_minor": 0,
  "metadata": {
    "colab": {
      "provenance": [],
      "authorship_tag": "ABX9TyOErGLxyZlbX4w0UOrWZnu9",
      "include_colab_link": true
    },
    "kernelspec": {
      "name": "python3",
      "display_name": "Python 3"
    },
    "language_info": {
      "name": "python"
    }
  },
  "cells": [
    {
      "cell_type": "markdown",
      "metadata": {
        "id": "view-in-github",
        "colab_type": "text"
      },
      "source": [
        "<a href=\"https://colab.research.google.com/github/harikorivi/NPL_Learning/blob/main/regex_tutorial_nlp.ipynb\" target=\"_parent\"><img src=\"https://colab.research.google.com/assets/colab-badge.svg\" alt=\"Open In Colab\"/></a>"
      ]
    },
    {
      "cell_type": "code",
      "execution_count": 14,
      "metadata": {
        "id": "v7KnUiu1rmWx"
      },
      "outputs": [],
      "source": [
        "import re"
      ]
    },
    {
      "cell_type": "code",
      "source": [
        "chat1 = 'codebasics: you ask lot of questions 😠  1235678912, abc@xyz.com'\n",
        "chat2 = 'codebasics: here it is: (123)-567-8912, abc@xyz.com'\n",
        "chat3 = 'codebasics: yes, phone: 1235678912 email: abc@xyz.com'"
      ],
      "metadata": {
        "id": "c14ytK6YuDwb"
      },
      "execution_count": 4,
      "outputs": []
    },
    {
      "cell_type": "code",
      "source": [
        "pattern = '\\d{10}|\\(\\d{3}\\)-\\d{2}'\n",
        "#pattern = '\\d{10}'\n",
        "matches = re.findall(pattern, chat1)\n",
        "print(matches)\n",
        "matches = re.findall(pattern, chat2)\n",
        "print(matches)"
      ],
      "metadata": {
        "colab": {
          "base_uri": "https://localhost:8080/"
        },
        "id": "ssfRye74uFto",
        "outputId": "968b2ec6-8f10-4a66-9ee7-a7b2f311e13a"
      },
      "execution_count": 12,
      "outputs": [
        {
          "output_type": "stream",
          "name": "stdout",
          "text": [
            "['1235678912']\n",
            "['(123)-56']\n"
          ]
        }
      ]
    },
    {
      "cell_type": "markdown",
      "source": [
        "# **Excercise**\n",
        "**1. Extract all twitter handles from following text. Twitter handle is the text that appears after https://twitter.com/ and is a single word. Also it contains only alpha numeric characters i.e. A-Z a-z , o to 9 and underscore _**"
      ],
      "metadata": {
        "id": "jeQQwEsj2z_X"
      }
    },
    {
      "cell_type": "code",
      "source": [
        "text = '''\n",
        "Follow our leader Elon musk on twitter here: https://twitter.com/elonmusk, more information\n",
        "on Tesla's products can be found at https://www.tesla.com/. Also here are leading influencers\n",
        "for tesla related news,\n",
        "https://twitter.com/teslarati\n",
        "https://twitter.com/dummy_tesla\n",
        "https://twitter.com/dummy_2_tesla\n",
        "https://twitter.com/dummy_tesla___\n",
        "https://twitter.com/..\n",
        "https://twitter.com/dummy_2_tesla_2_334_3434\n",
        "'''\n",
        "pattern = 'https://twitter.com/([a-zA-Z0-9]*[\\_]*[a-zA-Z0-9]*[\\_]*[a-zA-Z0-9]*)' # todo: type your regex here\n",
        "pattern1 = 'https://twitter.com/([a-zA-Z0-9_]*)'\n",
        "pattern2 = 'https://twitter.com/([a-zA-Z0-9_]+)'\n",
        "\n",
        "output= re.findall(pattern, text)\n",
        "print(f'Pattern Details: {output}')\n",
        "output = re.findall(pattern1, text)\n",
        "print(f'Pattern1 Details: {output}')\n",
        "output = re.findall(pattern2, text)\n",
        "print(f'Pattern2 Details: {output}')"
      ],
      "metadata": {
        "colab": {
          "base_uri": "https://localhost:8080/"
        },
        "id": "0A3W59352-iX",
        "outputId": "3f692c36-c1f0-4903-e6e4-5c8889335829"
      },
      "execution_count": 18,
      "outputs": [
        {
          "output_type": "stream",
          "name": "stdout",
          "text": [
            "Pattern Details: ['elonmusk', 'teslarati', 'dummy_tesla', 'dummy_2_tesla', 'dummy_tesla___', '', 'dummy_2_tesla']\n",
            "Pattern1 Details: ['elonmusk', 'teslarati', 'dummy_tesla', 'dummy_2_tesla', 'dummy_tesla___', '', 'dummy_2_tesla_2_334_3434']\n",
            "Pattern2 Details: ['elonmusk', 'teslarati', 'dummy_tesla', 'dummy_2_tesla', 'dummy_tesla___', 'dummy_2_tesla_2_334_3434']\n"
          ]
        }
      ]
    },
    {
      "cell_type": "markdown",
      "source": [
        "**2. Extract Concentration Risk Types. It will be a text that appears after \"Concentration Risk:\", In below example, your regex should extract these two strings**\n",
        "\n",
        "(1) Credit Risk\n",
        "\n",
        "(2) Supply Rish"
      ],
      "metadata": {
        "id": "qVF4GsG33CZ1"
      }
    },
    {
      "cell_type": "code",
      "source": [
        "text = '''\n",
        "Concentration of Risk: Credit Risk\n",
        "Financial instruments that potentially subject us to a concentration of credit risk consist of cash, cash equivalents, marketable securities,\n",
        "restricted cash, accounts receivable, convertible note hedges, and interest rate swaps. Our cash balances are primarily invested in money market funds\n",
        "or on deposit at high credit quality financial institutions in the U.S. These deposits are typically in excess of insured limits. As of September 30, 2021\n",
        "and December 31, 2020, no entity represented 10% or more of our total accounts receivable balance. The risk of concentration for our convertible note\n",
        "hedges and interest rate swaps is mitigated by transacting with several highly-rated multinational banks.\n",
        "Concentration of Risk: Supply Risk\n",
        "We are dependent on our suppliers, including single source suppliers, and the inability of these suppliers to deliver necessary components of our\n",
        "products in a timely manner at prices, quality levels and volumes acceptable to us, or our inability to efficiently manage these components from these\n",
        "suppliers, could have a material adverse effect on our business, prospects, financial condition and operating results.\n",
        "'''\n",
        "pattern = 'Concentration of Risk: ([^\\n]*)' # todo: type your regex here\n",
        "\n",
        "re.findall(pattern, text)"
      ],
      "metadata": {
        "colab": {
          "base_uri": "https://localhost:8080/"
        },
        "id": "BlJ8zHx13GDP",
        "outputId": "11720b3a-4c05-4b74-87d7-8839b8c674df"
      },
      "execution_count": 20,
      "outputs": [
        {
          "output_type": "execute_result",
          "data": {
            "text/plain": [
              "['Credit Risk', 'Supply Risk']"
            ]
          },
          "metadata": {},
          "execution_count": 20
        }
      ]
    },
    {
      "cell_type": "markdown",
      "source": [
        "**3. Companies in europe reports their financial numbers of semi annual basis and you can have a document like this. To exatract quarterly and semin annual period you can use a regex as shown below**\n",
        "\n",
        "Hint: you need to use (?:) here to match everything enclosed"
      ],
      "metadata": {
        "id": "Tj1Uc2-h3JTO"
      }
    },
    {
      "cell_type": "code",
      "source": [
        "text = '''\n",
        "Tesla's gross cost of operating lease vehicles in FY2021 Q1 was $4.85 billion.\n",
        "BMW's gross cost of operating vehicles in FY2021 S1 was $8 billion.\n",
        "'''\n",
        "\n",
        "pattern = '(?:FY2021[^\\n]*)' # todo: type your regex here\n",
        "matches = re.findall(pattern, text)\n",
        "print(f'{matches=}')\n",
        "pattern1 = 'FY(\\d{4} (?:Q[1-4]|S[1-2]))'\n",
        "matches = re.findall(pattern1, text)\n",
        "print(f'{matches=}')"
      ],
      "metadata": {
        "colab": {
          "base_uri": "https://localhost:8080/"
        },
        "id": "gU-wI4Gx3Odh",
        "outputId": "20571693-18aa-47cf-b9f0-e791a73b7617"
      },
      "execution_count": 25,
      "outputs": [
        {
          "output_type": "stream",
          "name": "stdout",
          "text": [
            "matches=['FY2021 Q1 was $4.85 billion.', 'FY2021 S1 was $8 billion.']\n",
            "matches=['2021 Q1', '2021 S1']\n"
          ]
        }
      ]
    }
  ]
}